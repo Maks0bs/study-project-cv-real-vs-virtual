{
 "cells": [
  {
   "cell_type": "markdown",
   "metadata": {
    "collapsed": false,
    "pycharm": {
     "name": "#%% md\n"
    }
   },
   "source": [
    "# 0 Information\n",
    "\n",
    "## 0.1 Prerequisites\n",
    "\n",
    "### 0.1.1 Git\n",
    "* Should be installed\n",
    "* Should be available via path, so that it is possible to call `git clone ...` directly from the console\n",
    "\n",
    "### 0.1.2 Python\n",
    "It is recommended to use version 3.8+. The oldest version on which\n",
    "this notebook and all codebase scripts have been tested is 3.7.\n",
    "\n",
    "## 0.2 Recommendations\n",
    "\n",
    "### 0.2.1 Configuration\n",
    "The current setup of this file allow you to completely run all the modules of the project without any problems.\n",
    "If you wish to simply execute all the functions, and you don't require special configuration or output directories\n",
    "then please stick to the configuration that is provided here by default.\n",
    "\n",
    "### 0.2.2 Virtual environment\n",
    "It is recommended to run this notebook in a separate `conda` python virtual environment.\n",
    "Even though this is not a requirement to run this notebook it is very recommended using a virtual environment.\n",
    "\n",
    "### 0.2.3 Google colab\n",
    "A lot of scripts from here are very slow and it is advisable to run them from google colab. In this you don't have to care about virtual environments and packages in python"
   ]
  },
  {
   "cell_type": "markdown",
   "metadata": {
    "collapsed": false
   },
   "source": [
    "# 1 Setup and config"
   ]
  },
  {
   "cell_type": "markdown",
   "metadata": {
    "collapsed": false,
    "pycharm": {
     "name": "#%% md\n"
    }
   },
   "source": [
    "### `SCRIPTS_EXEC_MODE`\n",
    "It is possible to execute all scripts in `verbose` mode to display\n",
    "all logs that are displayed by the scripts themselves\n",
    "and also by all the subprocesses that they start. However, if you use `silent` mode\n",
    "then no logs will be displayed. Only important messages like errors and\n",
    "important execution checkpoints will be logged in silent mode."
   ]
  },
  {
   "cell_type": "code",
   "execution_count": 8,
   "metadata": {
    "collapsed": false,
    "pycharm": {
     "name": "#%%\n"
    }
   },
   "outputs": [],
   "source": [
    "SCRIPTS_EXEC_MODE = 'verbose'"
   ]
  },
  {
   "cell_type": "markdown",
   "metadata": {},
   "source": [
    "### `CLONE_GITHUB_REPO`\n",
    "\n",
    "Set to true if this is a standalone notebook that gets executed and needs to pull the code from the repo. Otherwise we assume this notebook is a sibling to all the root files of the repo"
   ]
  },
  {
   "cell_type": "code",
   "execution_count": 9,
   "metadata": {},
   "outputs": [],
   "source": [
    "CLONE_GITHUB_REPO = False"
   ]
  },
  {
   "cell_type": "markdown",
   "metadata": {
    "collapsed": false
   },
   "source": [
    "### `EVAL_SPLIT_RATIO`\n",
    "Specify a float value from `0.0` to `1.0` which defines how big the part of images should\n",
    "be used for evaluation. Value of `0.2` means that 20% of all the images in the provided dataset\n",
    "should be used for evaluation. The rest is used for training"
   ]
  },
  {
   "cell_type": "code",
   "execution_count": 10,
   "metadata": {
    "collapsed": false,
    "pycharm": {
     "name": "#%%\n"
    }
   },
   "outputs": [],
   "source": [
    "EVAL_SPLIT_RATIO = 0.2"
   ]
  },
  {
   "cell_type": "markdown",
   "metadata": {
    "collapsed": false
   },
   "source": [
    "### `NUM_TRAIN_STEPS`\n",
    "The number of training steps during the model training process. A training step is ...TODO..."
   ]
  },
  {
   "cell_type": "code",
   "execution_count": 11,
   "metadata": {
    "collapsed": false,
    "pycharm": {
     "name": "#%%\n"
    }
   },
   "outputs": [],
   "source": [
    "NUM_TRAIN_STEPS = 100"
   ]
  },
  {
   "cell_type": "markdown",
   "metadata": {},
   "source": [
    "### `CHECKPOINT_EVERY_N`\n",
    "How often should Tensorflow make checkpoints of training status"
   ]
  },
  {
   "cell_type": "code",
   "execution_count": 12,
   "metadata": {
    "collapsed": false,
    "pycharm": {
     "name": "#%%\n"
    }
   },
   "outputs": [],
   "source": [
    "CHECKPOINT_EVERY_N = 10"
   ]
  },
  {
   "cell_type": "markdown",
   "metadata": {},
   "source": [
    "### `EXISTING_MODEL`\n",
    "\n",
    "If you do not need to train the model, please specify the name of the trained model here and put its weights in the model"
   ]
  },
  {
   "cell_type": "code",
   "execution_count": 13,
   "metadata": {},
   "outputs": [],
   "source": [
    "EXISING_MODEL = None"
   ]
  },
  {
   "cell_type": "markdown",
   "metadata": {
    "collapsed": false,
    "pycharm": {
     "name": "#%% md\n"
    }
   },
   "source": [
    "# 2 Workspace preparation\n",
    "All of these cells should be run only for one time when we \"start from scratch\" with this notebook\n",
    "Install the project package to the python (virtual) environment"
   ]
  },
  {
   "cell_type": "code",
   "execution_count": 14,
   "metadata": {},
   "outputs": [],
   "source": [
    "if CLONE_GITHUB_REPO:\n",
    "    !git clone -b animal-detection \"https://github.com/Maks0bs/study-project-cv-real-vs-virtual.git\" ./animal-detection\n",
    "    %cd animal-detection"
   ]
  },
  {
   "cell_type": "code",
   "execution_count": 16,
   "metadata": {
    "collapsed": false,
    "pycharm": {
     "name": "#%%\n"
    }
   },
   "outputs": [
    {
     "name": "stderr",
     "output_type": "stream",
     "text": [
      "WARNING: pip is being invoked by an old script wrapper. This will fail in a future version of pip.\n",
      "Please see https://github.com/pypa/pip/issues/5599 for advice on fixing the underlying issue.\n",
      "To avoid this problem you can invoke Python with '-m pip' instead of running pip directly.\n"
     ]
    },
    {
     "data": {
      "text/html": [
       "<pre style=\"white-space:pre;overflow-x:auto;line-height:normal;font-family:Menlo,'DejaVu Sans Mono',consolas,'Courier New',monospace\">Obtaining file:///D:/Programming/Projects/python/ksunia/animal-breed-detection/studienprojekt_cv_rvv\n",
       "</pre>\n"
      ],
      "text/plain": [
       "Obtaining file:///D:/Programming/Projects/python/ksunia/animal-breed-detection/studienprojekt_cv_rvv\n"
      ]
     },
     "metadata": {},
     "output_type": "display_data"
    },
    {
     "data": {
      "text/html": [
       "<pre style=\"white-space:pre;overflow-x:auto;line-height:normal;font-family:Menlo,'DejaVu Sans Mono',consolas,'Courier New',monospace\">  Preparing metadata (setup.py): started\n",
       "</pre>\n"
      ],
      "text/plain": [
       "  Preparing metadata (setup.py): started\n"
      ]
     },
     "metadata": {},
     "output_type": "display_data"
    },
    {
     "data": {
      "text/html": [
       "<pre style=\"white-space:pre;overflow-x:auto;line-height:normal;font-family:Menlo,'DejaVu Sans Mono',consolas,'Courier New',monospace\">  Preparing metadata (setup.py): finished with status 'done'\n",
       "</pre>\n"
      ],
      "text/plain": [
       "  Preparing metadata (setup.py): finished with status 'done'\n"
      ]
     },
     "metadata": {},
     "output_type": "display_data"
    },
    {
     "data": {
      "text/html": [
       "<pre style=\"white-space:pre;overflow-x:auto;line-height:normal;font-family:Menlo,'DejaVu Sans Mono',consolas,'Courier New',monospace\">Installing collected packages: studienprojekt-cv-rvv\n",
       "</pre>\n"
      ],
      "text/plain": [
       "Installing collected packages: studienprojekt-cv-rvv\n"
      ]
     },
     "metadata": {},
     "output_type": "display_data"
    },
    {
     "data": {
      "text/html": [
       "<pre style=\"white-space:pre;overflow-x:auto;line-height:normal;font-family:Menlo,'DejaVu Sans Mono',consolas,'Courier New',monospace\">  Attempting uninstall: studienprojekt-cv-rvv\n",
       "</pre>\n"
      ],
      "text/plain": [
       "  Attempting uninstall: studienprojekt-cv-rvv\n"
      ]
     },
     "metadata": {},
     "output_type": "display_data"
    },
    {
     "data": {
      "text/html": [
       "<pre style=\"white-space:pre;overflow-x:auto;line-height:normal;font-family:Menlo,'DejaVu Sans Mono',consolas,'Courier New',monospace\">    Found existing installation: studienprojekt-cv-rvv 1.0\n",
       "</pre>\n"
      ],
      "text/plain": [
       "    Found existing installation: studienprojekt-cv-rvv 1.0\n"
      ]
     },
     "metadata": {},
     "output_type": "display_data"
    },
    {
     "data": {
      "text/html": [
       "<pre style=\"white-space:pre;overflow-x:auto;line-height:normal;font-family:Menlo,'DejaVu Sans Mono',consolas,'Courier New',monospace\">    Uninstalling studienprojekt-cv-rvv-1.0:\n",
       "</pre>\n"
      ],
      "text/plain": [
       "    Uninstalling studienprojekt-cv-rvv-1.0:\n"
      ]
     },
     "metadata": {},
     "output_type": "display_data"
    },
    {
     "data": {
      "text/html": [
       "<pre style=\"white-space:pre;overflow-x:auto;line-height:normal;font-family:Menlo,'DejaVu Sans Mono',consolas,'Courier New',monospace\">      Successfully uninstalled studienprojekt-cv-rvv-1.0\n",
       "</pre>\n"
      ],
      "text/plain": [
       "      Successfully uninstalled studienprojekt-cv-rvv-1.0\n"
      ]
     },
     "metadata": {},
     "output_type": "display_data"
    },
    {
     "data": {
      "text/html": [
       "<pre style=\"white-space:pre;overflow-x:auto;line-height:normal;font-family:Menlo,'DejaVu Sans Mono',consolas,'Courier New',monospace\">  Running setup.py develop for studienprojekt-cv-rvv\n",
       "</pre>\n"
      ],
      "text/plain": [
       "  Running setup.py develop for studienprojekt-cv-rvv\n"
      ]
     },
     "metadata": {},
     "output_type": "display_data"
    },
    {
     "data": {
      "text/html": [
       "<pre style=\"white-space:pre;overflow-x:auto;line-height:normal;font-family:Menlo,'DejaVu Sans Mono',consolas,'Courier New',monospace\">Successfully installed studienprojekt-cv-rvv-1.0\n",
       "</pre>\n"
      ],
      "text/plain": [
       "Successfully installed studienprojekt-cv-rvv-1.0\n"
      ]
     },
     "metadata": {},
     "output_type": "display_data"
    },
    {
     "data": {
      "text/plain": [
       "0"
      ]
     },
     "execution_count": 16,
     "metadata": {},
     "output_type": "execute_result"
    }
   ],
   "source": [
    "import pip\n",
    "\n",
    "pip.main(['install', '-e', '.'])"
   ]
  },
  {
   "cell_type": "code",
   "execution_count": 17,
   "metadata": {},
   "outputs": [
    {
     "name": "stdout",
     "output_type": "stream",
     "text": [
      "Requirement already satisfied: matplotlib in c:\\users\\makst\\anaconda3\\lib\\site-packages (3.8.2)\n",
      "Requirement already satisfied: pillow in c:\\users\\makst\\anaconda3\\lib\\site-packages (9.5.0)\n",
      "Requirement already satisfied: gin-config in c:\\users\\makst\\anaconda3\\lib\\site-packages (0.5.0)\n",
      "Requirement already satisfied: tensorflow==2.13.0 in c:\\users\\makst\\anaconda3\\lib\\site-packages (2.13.0)\n",
      "Requirement already satisfied: opencv-python in c:\\users\\makst\\anaconda3\\lib\\site-packages (4.8.1.78)\n",
      "Requirement already satisfied: tensorflow-intel==2.13.0 in c:\\users\\makst\\anaconda3\\lib\\site-packages (from tensorflow==2.13.0) (2.13.0)\n",
      "Requirement already satisfied: setuptools in c:\\users\\makst\\anaconda3\\lib\\site-packages (from tensorflow-intel==2.13.0->tensorflow==2.13.0) (63.4.1)\n",
      "Requirement already satisfied: numpy<=1.24.3,>=1.22 in c:\\users\\makst\\anaconda3\\lib\\site-packages (from tensorflow-intel==2.13.0->tensorflow==2.13.0) (1.24.3)\n",
      "Requirement already satisfied: h5py>=2.9.0 in c:\\users\\makst\\anaconda3\\lib\\site-packages (from tensorflow-intel==2.13.0->tensorflow==2.13.0) (3.7.0)\n",
      "Requirement already satisfied: typing-extensions<4.6.0,>=3.6.6 in c:\\users\\makst\\anaconda3\\lib\\site-packages (from tensorflow-intel==2.13.0->tensorflow==2.13.0) (4.3.0)\n",
      "Requirement already satisfied: absl-py>=1.0.0 in c:\\users\\makst\\anaconda3\\lib\\site-packages (from tensorflow-intel==2.13.0->tensorflow==2.13.0) (2.0.0)\n",
      "Requirement already satisfied: tensorboard<2.14,>=2.13 in c:\\users\\makst\\anaconda3\\lib\\site-packages (from tensorflow-intel==2.13.0->tensorflow==2.13.0) (2.13.0)\n",
      "Requirement already satisfied: keras<2.14,>=2.13.1 in c:\\users\\makst\\anaconda3\\lib\\site-packages (from tensorflow-intel==2.13.0->tensorflow==2.13.0) (2.13.1)\n",
      "Requirement already satisfied: protobuf!=4.21.0,!=4.21.1,!=4.21.2,!=4.21.3,!=4.21.4,!=4.21.5,<5.0.0dev,>=3.20.3 in c:\\users\\makst\\anaconda3\\lib\\site-packages (from tensorflow-intel==2.13.0->tensorflow==2.13.0) (4.23.4)\n",
      "Requirement already satisfied: packaging in c:\\users\\makst\\anaconda3\\lib\\site-packages (from tensorflow-intel==2.13.0->tensorflow==2.13.0) (21.3)\n",
      "Requirement already satisfied: six>=1.12.0 in c:\\users\\makst\\anaconda3\\lib\\site-packages (from tensorflow-intel==2.13.0->tensorflow==2.13.0) (1.16.0)\n",
      "Requirement already satisfied: opt-einsum>=2.3.2 in c:\\users\\makst\\anaconda3\\lib\\site-packages (from tensorflow-intel==2.13.0->tensorflow==2.13.0) (3.3.0)\n",
      "Requirement already satisfied: libclang>=13.0.0 in c:\\users\\makst\\anaconda3\\lib\\site-packages (from tensorflow-intel==2.13.0->tensorflow==2.13.0) (16.0.6)\n",
      "Requirement already satisfied: flatbuffers>=23.1.21 in c:\\users\\makst\\anaconda3\\lib\\site-packages (from tensorflow-intel==2.13.0->tensorflow==2.13.0) (23.5.26)\n",
      "Requirement already satisfied: google-pasta>=0.1.1 in c:\\users\\makst\\anaconda3\\lib\\site-packages (from tensorflow-intel==2.13.0->tensorflow==2.13.0) (0.2.0)\n",
      "Requirement already satisfied: gast<=0.4.0,>=0.2.1 in c:\\users\\makst\\anaconda3\\lib\\site-packages (from tensorflow-intel==2.13.0->tensorflow==2.13.0) (0.4.0)\n",
      "Requirement already satisfied: tensorflow-estimator<2.14,>=2.13.0 in c:\\users\\makst\\anaconda3\\lib\\site-packages (from tensorflow-intel==2.13.0->tensorflow==2.13.0) (2.13.0)\n",
      "Requirement already satisfied: termcolor>=1.1.0 in c:\\users\\makst\\anaconda3\\lib\\site-packages (from tensorflow-intel==2.13.0->tensorflow==2.13.0) (2.3.0)\n",
      "Requirement already satisfied: tensorflow-io-gcs-filesystem>=0.23.1 in c:\\users\\makst\\anaconda3\\lib\\site-packages\\tensorflow_io_gcs_filesystem-0.31.0-py3.9-win-amd64.egg (from tensorflow-intel==2.13.0->tensorflow==2.13.0) (0.31.0)\n",
      "Requirement already satisfied: grpcio<2.0,>=1.24.3 in c:\\users\\makst\\anaconda3\\lib\\site-packages (from tensorflow-intel==2.13.0->tensorflow==2.13.0) (1.59.3)\n",
      "Requirement already satisfied: wrapt>=1.11.0 in c:\\users\\makst\\anaconda3\\lib\\site-packages (from tensorflow-intel==2.13.0->tensorflow==2.13.0) (1.14.1)\n",
      "Requirement already satisfied: astunparse>=1.6.0 in c:\\users\\makst\\anaconda3\\lib\\site-packages (from tensorflow-intel==2.13.0->tensorflow==2.13.0) (1.6.3)\n",
      "Requirement already satisfied: importlib-resources>=3.2.0 in c:\\users\\makst\\anaconda3\\lib\\site-packages (from matplotlib) (6.1.1)\n",
      "Requirement already satisfied: kiwisolver>=1.3.1 in c:\\users\\makst\\anaconda3\\lib\\site-packages (from matplotlib) (1.4.2)\n",
      "Requirement already satisfied: python-dateutil>=2.7 in c:\\users\\makst\\anaconda3\\lib\\site-packages (from matplotlib) (2.8.2)\n",
      "Requirement already satisfied: cycler>=0.10 in c:\\users\\makst\\anaconda3\\lib\\site-packages (from matplotlib) (0.11.0)\n",
      "Requirement already satisfied: fonttools>=4.22.0 in c:\\users\\makst\\anaconda3\\lib\\site-packages (from matplotlib) (4.25.0)\n",
      "Requirement already satisfied: pyparsing>=2.3.1 in c:\\users\\makst\\anaconda3\\lib\\site-packages (from matplotlib) (3.0.9)\n",
      "Requirement already satisfied: contourpy>=1.0.1 in c:\\users\\makst\\anaconda3\\lib\\site-packages (from matplotlib) (1.2.0)\n",
      "Requirement already satisfied: zipp>=3.1.0 in c:\\users\\makst\\anaconda3\\lib\\site-packages (from importlib-resources>=3.2.0->matplotlib) (3.8.0)\n",
      "Requirement already satisfied: wheel<1.0,>=0.23.0 in c:\\users\\makst\\anaconda3\\lib\\site-packages (from astunparse>=1.6.0->tensorflow-intel==2.13.0->tensorflow==2.13.0) (0.37.1)\n",
      "Requirement already satisfied: google-auth<3,>=1.6.3 in c:\\users\\makst\\anaconda3\\lib\\site-packages (from tensorboard<2.14,>=2.13->tensorflow-intel==2.13.0->tensorflow==2.13.0) (2.23.4)\n",
      "Requirement already satisfied: werkzeug>=1.0.1 in c:\\users\\makst\\anaconda3\\lib\\site-packages (from tensorboard<2.14,>=2.13->tensorflow-intel==2.13.0->tensorflow==2.13.0) (2.0.3)\n",
      "Requirement already satisfied: requests<3,>=2.21.0 in c:\\users\\makst\\anaconda3\\lib\\site-packages (from tensorboard<2.14,>=2.13->tensorflow-intel==2.13.0->tensorflow==2.13.0) (2.28.1)\n",
      "Requirement already satisfied: tensorboard-data-server<0.8.0,>=0.7.0 in c:\\users\\makst\\anaconda3\\lib\\site-packages (from tensorboard<2.14,>=2.13->tensorflow-intel==2.13.0->tensorflow==2.13.0) (0.7.2)\n",
      "Requirement already satisfied: google-auth-oauthlib<1.1,>=0.5 in c:\\users\\makst\\anaconda3\\lib\\site-packages (from tensorboard<2.14,>=2.13->tensorflow-intel==2.13.0->tensorflow==2.13.0) (1.0.0)\n",
      "Requirement already satisfied: markdown>=2.6.8 in c:\\users\\makst\\anaconda3\\lib\\site-packages (from tensorboard<2.14,>=2.13->tensorflow-intel==2.13.0->tensorflow==2.13.0) (3.3.4)\n",
      "Requirement already satisfied: pyasn1-modules>=0.2.1 in c:\\users\\makst\\anaconda3\\lib\\site-packages (from google-auth<3,>=1.6.3->tensorboard<2.14,>=2.13->tensorflow-intel==2.13.0->tensorflow==2.13.0) (0.2.8)\n",
      "Requirement already satisfied: cachetools<6.0,>=2.0.0 in c:\\users\\makst\\anaconda3\\lib\\site-packages (from google-auth<3,>=1.6.3->tensorboard<2.14,>=2.13->tensorflow-intel==2.13.0->tensorflow==2.13.0) (5.3.2)\n",
      "Requirement already satisfied: rsa<5,>=3.1.4 in c:\\users\\makst\\anaconda3\\lib\\site-packages (from google-auth<3,>=1.6.3->tensorboard<2.14,>=2.13->tensorflow-intel==2.13.0->tensorflow==2.13.0) (4.9)\n",
      "Requirement already satisfied: requests-oauthlib>=0.7.0 in c:\\users\\makst\\anaconda3\\lib\\site-packages (from google-auth-oauthlib<1.1,>=0.5->tensorboard<2.14,>=2.13->tensorflow-intel==2.13.0->tensorflow==2.13.0) (1.3.1)\n",
      "Requirement already satisfied: idna<4,>=2.5 in c:\\users\\makst\\anaconda3\\lib\\site-packages (from requests<3,>=2.21.0->tensorboard<2.14,>=2.13->tensorflow-intel==2.13.0->tensorflow==2.13.0) (3.3)\n",
      "Requirement already satisfied: certifi>=2017.4.17 in c:\\users\\makst\\anaconda3\\lib\\site-packages (from requests<3,>=2.21.0->tensorboard<2.14,>=2.13->tensorflow-intel==2.13.0->tensorflow==2.13.0) (2022.9.14)\n",
      "Requirement already satisfied: urllib3<1.27,>=1.21.1 in c:\\users\\makst\\anaconda3\\lib\\site-packages (from requests<3,>=2.21.0->tensorboard<2.14,>=2.13->tensorflow-intel==2.13.0->tensorflow==2.13.0) (1.26.11)\n",
      "Requirement already satisfied: charset-normalizer<3,>=2 in c:\\users\\makst\\anaconda3\\lib\\site-packages (from requests<3,>=2.21.0->tensorboard<2.14,>=2.13->tensorflow-intel==2.13.0->tensorflow==2.13.0) (2.0.4)\n",
      "Requirement already satisfied: pyasn1<0.5.0,>=0.4.6 in c:\\users\\makst\\anaconda3\\lib\\site-packages (from pyasn1-modules>=0.2.1->google-auth<3,>=1.6.3->tensorboard<2.14,>=2.13->tensorflow-intel==2.13.0->tensorflow==2.13.0) (0.4.8)\n",
      "Requirement already satisfied: oauthlib>=3.0.0 in c:\\users\\makst\\anaconda3\\lib\\site-packages (from requests-oauthlib>=0.7.0->google-auth-oauthlib<1.1,>=0.5->tensorboard<2.14,>=2.13->tensorflow-intel==2.13.0->tensorflow==2.13.0) (3.2.2)\n"
     ]
    }
   ],
   "source": [
    "! python -m pip install matplotlib pillow gin-config tensorflow==2.13.0 opencv-python"
   ]
  },
  {
   "cell_type": "markdown",
   "metadata": {},
   "source": [
    "## 2.1 Optional: upload archive with data\n",
    "\n",
    "If executing on colab, you need to upload the archive from [here](https://www.kaggle.com/datasets/zippyz/cats-and-dogs-breeds-classification-oxford-dataset/data) to the `data/datasets/raw/my_dataset` folder and unzip it"
   ]
  },
  {
   "cell_type": "code",
   "execution_count": 18,
   "metadata": {},
   "outputs": [],
   "source": [
    "#TODO"
   ]
  },
  {
   "cell_type": "markdown",
   "metadata": {
    "collapsed": false,
    "pycharm": {
     "name": "#%% md\n"
    }
   },
   "source": [
    "# 3 TFOD API and pretrained model\n",
    "Here we install Tensorflow Object Detection API and\n",
    "load the pretrained model that is specified in the config.\n",
    "Generally, the TFOD API should only be installed once.\n",
    "However, several pretrained models can be loaded (when the config is changed)\n",
    "and in this case it is required to run these cells once again\n",
    "for the new pretrained model to be used during training."
   ]
  },
  {
   "cell_type": "code",
   "execution_count": 19,
   "metadata": {
    "collapsed": false,
    "pycharm": {
     "name": "#%%\n"
    }
   },
   "outputs": [
    {
     "name": "stdout",
     "output_type": "stream",
     "text": [
      "Verifying if TFOD API is installed (correctly)...\n",
      "TFOD API is installed (correctly)\n",
      "Pretrained model was loaded (correctly)\n"
     ]
    }
   ],
   "source": [
    "import os\n",
    "python_file = os.path.join('setup', 'workspace.py')\n",
    "! python {python_file} -m {SCRIPTS_EXEC_MODE} -v \"both\""
   ]
  },
  {
   "cell_type": "markdown",
   "metadata": {
    "collapsed": false
   },
   "source": [
    "## 4 Dataset preparation\n",
    "Here we create the processed dataset with splitting into train and test sets.\n",
    "Please put your raw perception data in ./data/datasets/raw/my_dataset"
   ]
  },
  {
   "cell_type": "code",
   "execution_count": 20,
   "metadata": {
    "collapsed": false,
    "pycharm": {
     "name": "#%%\n"
    }
   },
   "outputs": [
    {
     "name": "stdout",
     "output_type": "stream",
     "text": [
      "Reading raw dataset\n",
      "Successfully read raw dataset\n",
      "Writing processed dataset\n",
      "Successfully wrote processed dataset\n",
      "generate tf records from d:\\programming\\projects\\python\\ksunia\\animal-breed-detection\\studienprojekt_cv_rvv/data/datasets/processed\\my_dataset\\train\n",
      "records written successfully\n",
      "generate tf records from d:\\programming\\projects\\python\\ksunia\\animal-breed-detection\\studienprojekt_cv_rvv/data/datasets/processed\\my_dataset\\eval\n",
      "records written successfully\n"
     ]
    }
   ],
   "source": [
    "import os\n",
    "python_file = os.path.join('data', 'preparation.py')\n",
    "!python {python_file} -m {SCRIPTS_EXEC_MODE} -sr {EVAL_SPLIT_RATIO}"
   ]
  },
  {
   "cell_type": "markdown",
   "metadata": {
    "collapsed": false
   },
   "source": [
    "## 5 Train the model\n",
    "Train the model on the created TF records"
   ]
  },
  {
   "cell_type": "code",
   "execution_count": null,
   "metadata": {
    "collapsed": false,
    "pycharm": {
     "name": "#%%\n"
    }
   },
   "outputs": [],
   "source": [
    "!python {os.path.join(MAIN_PACKAGE_PATH, 'train', 'train.py')} -m {SCRIPTS_EXEC_MODE} --num_train_steps {NUM_TRAIN_STEPS} --checkpoint_every_n {CHECKPOINT_EVERY_N}"
   ]
  },
  {
   "cell_type": "markdown",
   "metadata": {
    "collapsed": false
   },
   "source": [
    "## 6 Evaluate the model"
   ]
  },
  {
   "cell_type": "code",
   "execution_count": 7,
   "metadata": {
    "collapsed": false,
    "pycharm": {
     "name": "#%%\n"
    }
   },
   "outputs": [
    {
     "data": {
      "text/plain": [
       "'python /content/studienprojekt_cv_rvv/tfod_api/object_detection/model_main_tf2.py --model_dir=/content/studienprojekt_cv_rvv/models/trained/my_model --pipeline_config_path=/content/studienprojekt_cv_rvv/models/trained/my_model/pipeline.config --checkpoint_dir=/content/studienprojekt_cv_rvv/models/trained/my_model'"
      ]
     },
     "execution_count": 7,
     "metadata": {},
     "output_type": "execute_result"
    }
   ],
   "source": [
    "command = \"python {} --model_dir={} --pipeline_config_path={} --checkpoint_dir={}\".format('/content/studienprojekt_cv_rvv/tfod_api/object_detection/model_main_tf2.py', '/content/studienprojekt_cv_rvv/models/trained/my_model' ,'/content/studienprojekt_cv_rvv/models/trained/my_model/pipeline.config', '/content/studienprojekt_cv_rvv/models/trained/my_model')\n",
    "command"
   ]
  },
  {
   "cell_type": "code",
   "execution_count": null,
   "metadata": {
    "collapsed": false,
    "pycharm": {
     "name": "#%%\n"
    }
   },
   "outputs": [],
   "source": [
    "!{command}"
   ]
  },
  {
   "cell_type": "markdown",
   "metadata": {
    "collapsed": false
   },
   "source": [
    "## 7 Image Object Detection"
   ]
  },
  {
   "cell_type": "code",
   "execution_count": null,
   "metadata": {
    "collapsed": false,
    "pycharm": {
     "name": "#%%\n"
    }
   },
   "outputs": [],
   "source": [
    "import os\n",
    "import tensorflow as tf\n",
    "from object_detection.utils import label_map_util\n",
    "from object_detection.utils import visualization_utils as viz_utils\n",
    "from object_detection.builders import model_builder\n",
    "from object_detection.utils import config_util"
   ]
  },
  {
   "cell_type": "code",
   "execution_count": null,
   "metadata": {
    "collapsed": false,
    "pycharm": {
     "name": "#%%\n"
    }
   },
   "outputs": [],
   "source": [
    "# Image Object Detection\n",
    "\n",
    "PIPELINE_CONFIG_FILE = ''\n",
    "LABELMAP_FILE = ''\n",
    "NEW_CKPT_PATH = ''\n",
    "\n",
    "configs = config_util.get_configs_from_pipeline_file(PIPELINE_CONFIG_FILE)\n",
    "detection_model = model_builder.build(model_config=configs['model'], is_training=False)\n",
    "\n",
    "ckpt = tf.compat.v2.train.Checkpoint(model=detection_model)\n",
    "ckpt.restore(os.path.join(NEW_CKPT_PATH, 'ckpt-XXX')).expect_partial()\n",
    "\n",
    "\n",
    "@tf.function\n",
    "def detect_fn(image):\n",
    "    image, shapes = detection_model.preprocess(image)\n",
    "    prediction_dict = detection_model.predict(image, shapes)\n",
    "    detections = detection_model.postprocess(prediction_dict, shapes)\n",
    "    return detections"
   ]
  },
  {
   "cell_type": "code",
   "execution_count": null,
   "metadata": {
    "collapsed": false,
    "pycharm": {
     "name": "#%%\n"
    }
   },
   "outputs": [],
   "source": [
    "import cv2\n",
    "import numpy as np\n",
    "from matplotlib import pyplot as plt\n",
    "%matplotlib inline"
   ]
  },
  {
   "cell_type": "code",
   "execution_count": null,
   "metadata": {
    "collapsed": false,
    "pycharm": {
     "name": "#%%\n"
    }
   },
   "outputs": [],
   "source": [
    "category_index = label_map_util.create_category_index_from_labelmap(LABELMAP_FILE)\n",
    "IMAGE_PATH = ''"
   ]
  },
  {
   "cell_type": "code",
   "execution_count": null,
   "metadata": {
    "collapsed": false,
    "pycharm": {
     "name": "#%%\n"
    }
   },
   "outputs": [],
   "source": [
    "img = cv2.imread(IMAGE_PATH)\n",
    "image_np = np.array(img)\n",
    "\n",
    "input_tensor = tf.convert_to_tensor(np.expand_dims(image_np, 0), dtype=tf.float32)\n",
    "detections = detect_fn(input_tensor)\n",
    "\n",
    "num_detections = int(detections.pop('num_detections'))\n",
    "detections = {key: value[0, :num_detections].numpy()\n",
    "              for key, value in detections.items()}\n",
    "detections['num_detections'] = num_detections\n",
    "\n",
    "# detection_classes should be ints.\n",
    "detections['detection_classes'] = detections['detection_classes'].astype(np.int64)\n",
    "\n",
    "label_id_offset = 1\n",
    "image_np_with_detections = image_np.copy()\n",
    "\n",
    "viz_utils.visualize_boxes_and_labels_on_image_array(\n",
    "            image_np_with_detections,\n",
    "            detections['detection_boxes'],\n",
    "            detections['detection_classes']+label_id_offset,\n",
    "            detections['detection_scores'],\n",
    "            category_index,\n",
    "            use_normalized_coordinates=True,\n",
    "            max_boxes_to_draw=10,\n",
    "            min_score_thresh=.25,\n",
    "            agnostic_mode=False)\n",
    "\n",
    "plt.imshow(cv2.cvtColor(image_np_with_detections, cv2.COLOR_BGR2RGB))\n",
    "plt.savefig('test.png')\n",
    "plt.show()"
   ]
  }
 ],
 "metadata": {
  "kernelspec": {
   "display_name": "Python 3",
   "language": "python",
   "name": "python3"
  },
  "language_info": {
   "codemirror_mode": {
    "name": "ipython",
    "version": 3
   },
   "file_extension": ".py",
   "mimetype": "text/x-python",
   "name": "python",
   "nbconvert_exporter": "python",
   "pygments_lexer": "ipython3",
   "version": "3.9.13"
  }
 },
 "nbformat": 4,
 "nbformat_minor": 0
}
